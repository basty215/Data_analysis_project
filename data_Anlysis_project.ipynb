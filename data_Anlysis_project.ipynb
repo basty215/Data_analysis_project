{
  "nbformat": 4,
  "nbformat_minor": 0,
  "metadata": {
    "colab": {
      "provenance": [],
      "authorship_tag": "ABX9TyOs5BzoY1NfaGkhYKh4XW24",
      "include_colab_link": true
    },
    "kernelspec": {
      "name": "python3",
      "display_name": "Python 3"
    },
    "language_info": {
      "name": "python"
    }
  },
  "cells": [
    {
      "cell_type": "markdown",
      "metadata": {
        "id": "view-in-github",
        "colab_type": "text"
      },
      "source": [
        "<a href=\"https://colab.research.google.com/github/basty215/Data_analysis_project/blob/main/data_Anlysis_project.ipynb\" target=\"_parent\"><img src=\"https://colab.research.google.com/assets/colab-badge.svg\" alt=\"Open In Colab\"/></a>"
      ]
    },
    {
      "cell_type": "code",
      "execution_count": null,
      "metadata": {
        "id": "5GHg2RkmqgdS"
      },
      "outputs": [],
      "source": [
        "%reset -f\n",
        "from __future__ import print_function\n",
        "\n",
        "import math\n",
        "import numpy as np\n",
        "import numpy.linalg as nla\n",
        "import pandas as pd\n",
        "import re\n",
        "import six\n",
        "from os.path import join\n",
        "from matplotlib import pyplot as plt\n",
        "\n",
        "import tensorflow.compat.v1 as tf\n",
        "tf.disable_v2_behavior()"
      ]
    },
    {
      "cell_type": "code",
      "source": [
        "pd.options.display.float_format = '{:.2f}'.format\n",
        "pd.options.display.max_rows = 15\n",
        "\n",
        "Choc_data = pd.read_csv(\"https://download.mlcc.google.com/mledu-datasets/flavors_of_cacao.csv\", sep=\",\", encoding='latin-1')"
      ],
      "metadata": {
        "id": "1B0lWquus9iy"
      },
      "execution_count": null,
      "outputs": []
    },
    {
      "cell_type": "code",
      "source": [
        "Choc_data.columns = ['maker', 'specific_origin', 'reference_number', 'review_date', 'coca_percent', 'maker_location', 'rating', 'bean_type', 'broad_origin']"
      ],
      "metadata": {
        "id": "qGuCxbdzv_mp"
      },
      "execution_count": null,
      "outputs": []
    },
    {
      "cell_type": "markdown",
      "source": [
        "** estudiar** for loops in sub listas."
      ],
      "metadata": {
        "id": "DhvRYr1suzV-"
      }
    },
    {
      "cell_type": "code",
      "source": [
        "Choc_data.dtypes"
      ],
      "metadata": {
        "colab": {
          "base_uri": "https://localhost:8080/"
        },
        "id": "Hua6TJjLwsNo",
        "outputId": "c959175f-8680-4f6b-b589-9a25b933d7e6"
      },
      "execution_count": null,
      "outputs": [
        {
          "output_type": "execute_result",
          "data": {
            "text/plain": [
              "maker                object\n",
              "specific_origin      object\n",
              "reference_number      int64\n",
              "review_date           int64\n",
              "coca_percent         object\n",
              "maker_location       object\n",
              "rating              float64\n",
              "bean_type            object\n",
              "broad_origin         object\n",
              "dtype: object"
            ]
          },
          "metadata": {},
          "execution_count": 40
        }
      ]
    },
    {
      "cell_type": "code",
      "source": [
        "Choc_data['bean_type'] = Choc_data['bean_type'].fillna('blend')"
      ],
      "metadata": {
        "id": "pE_fWhlKws6m"
      },
      "execution_count": null,
      "outputs": []
    },
    {
      "cell_type": "code",
      "source": [
        "Choc_data['bean_type'] = Choc_data['bean_type'].astype(str)\n",
        "Choc_data['coca_percent'] = Choc_data['coca_percent'].str.strip('%')\n",
        "Choc_data['coca_percent'] = pd.to_numeric(Choc_data['coca_percent'])"
      ],
      "metadata": {
        "id": "RtJonxoQxKGX"
      },
      "execution_count": null,
      "outputs": []
    },
    {
      "cell_type": "code",
      "source": [
        "Choc_data.dtypes"
      ],
      "metadata": {
        "colab": {
          "base_uri": "https://localhost:8080/"
        },
        "id": "-B1oBIjXxKDF",
        "outputId": "8566033b-131d-455f-b9e5-60a8c12cacac"
      },
      "execution_count": null,
      "outputs": [
        {
          "output_type": "execute_result",
          "data": {
            "text/plain": [
              "maker                object\n",
              "specific_origin      object\n",
              "reference_number      int64\n",
              "review_date           int64\n",
              "coca_percent        float64\n",
              "maker_location       object\n",
              "rating              float64\n",
              "bean_type            object\n",
              "broad_origin         object\n",
              "dtype: object"
            ]
          },
          "metadata": {},
          "execution_count": 43
        }
      ]
    },
    {
      "cell_type": "code",
      "source": [
        "print(Choc_data.dtypes)"
      ],
      "metadata": {
        "colab": {
          "base_uri": "https://localhost:8080/"
        },
        "id": "rZrDKvtIxJ89",
        "outputId": "87e72148-9940-4f29-e20f-0c4c5aa5427d"
      },
      "execution_count": null,
      "outputs": [
        {
          "output_type": "stream",
          "name": "stdout",
          "text": [
            "maker                object\n",
            "specific_origin      object\n",
            "reference_number      int64\n",
            "review_date           int64\n",
            "coca_percent        float64\n",
            "maker_location       object\n",
            "rating              float64\n",
            "bean_type            object\n",
            "broad_origin         object\n",
            "dtype: object\n"
          ]
        }
      ]
    },
    {
      "cell_type": "code",
      "source": [
        "from google.colab import files"
      ],
      "metadata": {
        "id": "J4VtG-KN3_mB"
      },
      "execution_count": null,
      "outputs": []
    },
    {
      "cell_type": "code",
      "source": [
        "#$Choc_data.to_csv('Choc_data_modified.csv',index =False)\n",
        "#files.download('Choc_data_modified.csv')"
      ],
      "metadata": {
        "id": "6bNNOWnC3NBF"
      },
      "execution_count": null,
      "outputs": []
    },
    {
      "cell_type": "code",
      "source": [
        "Choc_data['maker_location'] = Choc_data['maker_location']\\\n",
        ".str.replace('Amsterdam', 'Holland')\\\n",
        ".str.replace('U.K.', 'England')\\\n",
        ".str.replace('Niacragua', 'Nicaragua')\\\n",
        ".str.replace('Domincan Republic', 'Dominican Republic')"
      ],
      "metadata": {
        "colab": {
          "base_uri": "https://localhost:8080/"
        },
        "id": "FjqNSbf_xJuF",
        "outputId": "9782dc87-c6d5-4e06-c229-7001b6430280"
      },
      "execution_count": null,
      "outputs": [
        {
          "output_type": "stream",
          "name": "stderr",
          "text": [
            "<ipython-input-47-9b9e294c431b>:3: FutureWarning: The default value of regex will change from True to False in a future version.\n",
            "  .str.replace('U.K.', 'England')\\\n"
          ]
        }
      ]
    },
    {
      "cell_type": "code",
      "source": [
        "Choc_data['maker_location'] = Choc_data['maker_location']\\\n",
        ".str.replace('Holland', 'Netherlands')"
      ],
      "metadata": {
        "id": "7qGek1akxJev"
      },
      "execution_count": null,
      "outputs": []
    },
    {
      "cell_type": "code",
      "source": [
        "def cleanup_spelling_abbrev(text):\n",
        "    replacements = [\n",
        "        ['-', ', '], ['/ ', ', '], ['/', ', '], ['\\(', ', '], [' and', ', '], [' &', ', '], ['\\)', ''],\n",
        "        ['Dom Rep|DR|Domin Rep|Dominican Rep,|Domincan Republic', 'Dominican Republic'],\n",
        "        ['Mad,|Mad$', 'Madagascar, '],\n",
        "        ['PNG', 'Papua New Guinea, '],\n",
        "        ['Guat,|Guat$', 'Guatemala, '],\n",
        "        ['Ven,|Ven$|Venez,|Venez$', 'Venezuela, '],\n",
        "        ['Ecu,|Ecu$|Ecuad,|Ecuad$', 'Ecuador, '],\n",
        "        ['Nic,|Nic$', 'Nicaragua, '],\n",
        "        ['Cost Rica', 'Costa Rica'],\n",
        "        ['Mex,|Mex$', 'Mexico, '],\n",
        "        ['Jam,|Jam$', 'Jamaica, '],\n",
        "        ['Haw,|Haw$', 'Hawaii, '],\n",
        "        ['Gre,|Gre$', 'Grenada, '],\n",
        "        ['Tri,|Tri$', 'Trinidad, '],\n",
        "        ['C Am', 'Central America'],\n",
        "        ['S America', 'South America'],\n",
        "        [', $', ''], [',  ', ', '], [', ,', ', '], ['\\xa0', ' '],[',\\s+', ','],\n",
        "        [' Bali', ',Bali']\n",
        "    ]\n",
        "    for i, j in replacements:\n",
        "        text = re.sub(i, j, text)\n",
        "    return text"
      ],
      "metadata": {
        "id": "pZTdSH6ME8CE"
      },
      "execution_count": null,
      "outputs": []
    },
    {
      "cell_type": "code",
      "source": [
        "Choc_data['specific_origin'] = Choc_data['specific_origin'].str.replace('.', '').apply(cleanup_spelling_abbrev)"
      ],
      "metadata": {
        "colab": {
          "base_uri": "https://localhost:8080/"
        },
        "id": "Jf2riAicHA9B",
        "outputId": "c57e3f8a-9c58-417f-b012-4c291f9aea21"
      },
      "execution_count": null,
      "outputs": [
        {
          "output_type": "stream",
          "name": "stderr",
          "text": [
            "<ipython-input-50-cf9f0bf8ef8b>:1: FutureWarning: The default value of regex will change from True to False in a future version. In addition, single character regular expressions will *not* be treated as literal strings when regex=True.\n",
            "  Choc_data['specific_origin'] = Choc_data['specific_origin'].str.replace('.', '').apply(cleanup_spelling_abbrev)\n"
          ]
        }
      ]
    },
    {
      "cell_type": "code",
      "source": [
        "Choc_data['specific_origin'] = Choc_data['specific_origin'].astype(str)\n",
        "Choc_data['broad_origin'] = Choc_data['broad_origin'].fillna(Choc_data['specific_origin'])\n",
        "Choc_data['broad_origin'] = Choc_data['broad_origin'].str.replace('.', '').apply(cleanup_spelling_abbrev)"
      ],
      "metadata": {
        "colab": {
          "base_uri": "https://localhost:8080/"
        },
        "id": "4irsmJcwH3yt",
        "outputId": "5a5b7eb7-c078-4ecb-923b-4b1983d1d436"
      },
      "execution_count": null,
      "outputs": [
        {
          "output_type": "stream",
          "name": "stderr",
          "text": [
            "<ipython-input-53-29c37ac2569e>:3: FutureWarning: The default value of regex will change from True to False in a future version. In addition, single character regular expressions will *not* be treated as literal strings when regex=True.\n",
            "  Choc_data['broad_origin'] = Choc_data['broad_origin'].str.replace('.', '').apply(cleanup_spelling_abbrev)\n"
          ]
        }
      ]
    },
    {
      "cell_type": "code",
      "source": [
        "Choc_data['bean_type'].unique()"
      ],
      "metadata": {
        "colab": {
          "base_uri": "https://localhost:8080/"
        },
        "id": "f576RGTcJZLk",
        "outputId": "aa0f3d96-0be8-4f05-ed42-571ed13fc383"
      },
      "execution_count": null,
      "outputs": [
        {
          "output_type": "execute_result",
          "data": {
            "text/plain": [
              "array(['blend', 'Criollo', 'Trinitario', 'Forastero (Arriba)',\n",
              "       'Forastero', 'Forastero (Nacional)', 'Criollo, Trinitario',\n",
              "       'Criollo (Porcelana)', 'Blend', 'Trinitario (85% Criollo)',\n",
              "       'Forastero (Catongo)', 'Forastero (Parazinho)',\n",
              "       'Trinitario, Criollo', 'CCN51', 'Criollo (Ocumare)', 'Nacional',\n",
              "       'Criollo (Ocumare 61)', 'Criollo (Ocumare 77)',\n",
              "       'Criollo (Ocumare 67)', 'Criollo (Wild)', 'Beniano', 'Amazon mix',\n",
              "       'Trinitario, Forastero', 'Forastero (Arriba) ASS', 'Criollo, +',\n",
              "       'Amazon', 'Amazon, ICS', 'EET', 'Blend-Forastero,Criollo',\n",
              "       'Trinitario (Scavina)', 'Criollo, Forastero', 'Matina',\n",
              "       'Forastero(Arriba, CCN)', 'Nacional (Arriba)',\n",
              "       'Forastero (Arriba) ASSS', 'Forastero, Trinitario',\n",
              "       'Forastero (Amelonado)', 'Trinitario, Nacional',\n",
              "       'Trinitario (Amelonado)', 'Trinitario, TCGA', 'Criollo (Amarru)'],\n",
              "      dtype=object)"
            ]
          },
          "metadata": {},
          "execution_count": 54
        }
      ]
    },
    {
      "cell_type": "code",
      "source": [],
      "metadata": {
        "id": "2Xr_6OEXLRd9"
      },
      "execution_count": null,
      "outputs": []
    },
    {
      "cell_type": "code",
      "source": [
        "Choc_data.loc[Choc_data['bean_type'].isin(['Trinitario, Criollo']), 'bean_type'] = \"Criollo, Trinitario\""
      ],
      "metadata": {
        "id": "v7FS32W8JmYs"
      },
      "execution_count": null,
      "outputs": []
    },
    {
      "cell_type": "code",
      "source": [
        "Choc_data[Choc_data['bean_type'].isin(['Trinitario, Criollo'])]"
      ],
      "metadata": {
        "colab": {
          "base_uri": "https://localhost:8080/",
          "height": 157
        },
        "id": "twl3H3zkLSgd",
        "outputId": "635f4fde-6800-46a3-b02a-68dff9a5aba2"
      },
      "execution_count": null,
      "outputs": [
        {
          "output_type": "execute_result",
          "data": {
            "text/plain": [
              "Empty DataFrame\n",
              "Columns: [maker, specific_origin, reference_number, review_date, coca_percent, maker_location, rating, bean_type, broad_origin]\n",
              "Index: []"
            ],
            "text/html": [
              "\n",
              "  <div id=\"df-0d2b6ff3-5884-4326-afcc-4e82ef43cd79\" class=\"colab-df-container\">\n",
              "    <div>\n",
              "<style scoped>\n",
              "    .dataframe tbody tr th:only-of-type {\n",
              "        vertical-align: middle;\n",
              "    }\n",
              "\n",
              "    .dataframe tbody tr th {\n",
              "        vertical-align: top;\n",
              "    }\n",
              "\n",
              "    .dataframe thead th {\n",
              "        text-align: right;\n",
              "    }\n",
              "</style>\n",
              "<table border=\"1\" class=\"dataframe\">\n",
              "  <thead>\n",
              "    <tr style=\"text-align: right;\">\n",
              "      <th></th>\n",
              "      <th>maker</th>\n",
              "      <th>specific_origin</th>\n",
              "      <th>reference_number</th>\n",
              "      <th>review_date</th>\n",
              "      <th>coca_percent</th>\n",
              "      <th>maker_location</th>\n",
              "      <th>rating</th>\n",
              "      <th>bean_type</th>\n",
              "      <th>broad_origin</th>\n",
              "    </tr>\n",
              "  </thead>\n",
              "  <tbody>\n",
              "  </tbody>\n",
              "</table>\n",
              "</div>\n",
              "    <div class=\"colab-df-buttons\">\n",
              "\n",
              "  <div class=\"colab-df-container\">\n",
              "    <button class=\"colab-df-convert\" onclick=\"convertToInteractive('df-0d2b6ff3-5884-4326-afcc-4e82ef43cd79')\"\n",
              "            title=\"Convert this dataframe to an interactive table.\"\n",
              "            style=\"display:none;\">\n",
              "\n",
              "  <svg xmlns=\"http://www.w3.org/2000/svg\" height=\"24px\" viewBox=\"0 -960 960 960\">\n",
              "    <path d=\"M120-120v-720h720v720H120Zm60-500h600v-160H180v160Zm220 220h160v-160H400v160Zm0 220h160v-160H400v160ZM180-400h160v-160H180v160Zm440 0h160v-160H620v160ZM180-180h160v-160H180v160Zm440 0h160v-160H620v160Z\"/>\n",
              "  </svg>\n",
              "    </button>\n",
              "\n",
              "  <style>\n",
              "    .colab-df-container {\n",
              "      display:flex;\n",
              "      gap: 12px;\n",
              "    }\n",
              "\n",
              "    .colab-df-convert {\n",
              "      background-color: #E8F0FE;\n",
              "      border: none;\n",
              "      border-radius: 50%;\n",
              "      cursor: pointer;\n",
              "      display: none;\n",
              "      fill: #1967D2;\n",
              "      height: 32px;\n",
              "      padding: 0 0 0 0;\n",
              "      width: 32px;\n",
              "    }\n",
              "\n",
              "    .colab-df-convert:hover {\n",
              "      background-color: #E2EBFA;\n",
              "      box-shadow: 0px 1px 2px rgba(60, 64, 67, 0.3), 0px 1px 3px 1px rgba(60, 64, 67, 0.15);\n",
              "      fill: #174EA6;\n",
              "    }\n",
              "\n",
              "    .colab-df-buttons div {\n",
              "      margin-bottom: 4px;\n",
              "    }\n",
              "\n",
              "    [theme=dark] .colab-df-convert {\n",
              "      background-color: #3B4455;\n",
              "      fill: #D2E3FC;\n",
              "    }\n",
              "\n",
              "    [theme=dark] .colab-df-convert:hover {\n",
              "      background-color: #434B5C;\n",
              "      box-shadow: 0px 1px 3px 1px rgba(0, 0, 0, 0.15);\n",
              "      filter: drop-shadow(0px 1px 2px rgba(0, 0, 0, 0.3));\n",
              "      fill: #FFFFFF;\n",
              "    }\n",
              "  </style>\n",
              "\n",
              "    <script>\n",
              "      const buttonEl =\n",
              "        document.querySelector('#df-0d2b6ff3-5884-4326-afcc-4e82ef43cd79 button.colab-df-convert');\n",
              "      buttonEl.style.display =\n",
              "        google.colab.kernel.accessAllowed ? 'block' : 'none';\n",
              "\n",
              "      async function convertToInteractive(key) {\n",
              "        const element = document.querySelector('#df-0d2b6ff3-5884-4326-afcc-4e82ef43cd79');\n",
              "        const dataTable =\n",
              "          await google.colab.kernel.invokeFunction('convertToInteractive',\n",
              "                                                    [key], {});\n",
              "        if (!dataTable) return;\n",
              "\n",
              "        const docLinkHtml = 'Like what you see? Visit the ' +\n",
              "          '<a target=\"_blank\" href=https://colab.research.google.com/notebooks/data_table.ipynb>data table notebook</a>'\n",
              "          + ' to learn more about interactive tables.';\n",
              "        element.innerHTML = '';\n",
              "        dataTable['output_type'] = 'display_data';\n",
              "        await google.colab.output.renderOutput(dataTable, element);\n",
              "        const docLink = document.createElement('div');\n",
              "        docLink.innerHTML = docLinkHtml;\n",
              "        element.appendChild(docLink);\n",
              "      }\n",
              "    </script>\n",
              "  </div>\n",
              "\n",
              "\n",
              "    </div>\n",
              "  </div>\n"
            ],
            "application/vnd.google.colaboratory.intrinsic+json": {
              "type": "dataframe",
              "repr_error": "Out of range float values are not JSON compliant: nan"
            }
          },
          "metadata": {},
          "execution_count": 58
        }
      ]
    },
    {
      "cell_type": "code",
      "source": [
        "Choc_data.loc[Choc_data['maker']=='Shattel','maker'] = 'Shattell'\n",
        "Choc_data['maker'] = Choc_data['maker'].str.replace(u'Na\\xef\\xbf\\xbdve','Naive')\n",
        "Choc_data.head()"
      ],
      "metadata": {
        "colab": {
          "base_uri": "https://localhost:8080/",
          "height": 313
        },
        "id": "J38pgbU1LwjW",
        "outputId": "f0a61fe0-bbc3-4b29-898d-2705204b3e07"
      },
      "execution_count": null,
      "outputs": [
        {
          "output_type": "execute_result",
          "data": {
            "text/plain": [
              "      maker specific_origin  reference_number  review_date  coca_percent  \\\n",
              "0  A. Morin     Agua Grande              1876         2016         63.00   \n",
              "1  A. Morin           Kpime              1676         2015         70.00   \n",
              "2  A. Morin          Atsane              1676         2015         70.00   \n",
              "3  A. Morin           Akata              1680         2015         70.00   \n",
              "4  A. Morin          Quilla              1704         2015         70.00   \n",
              "\n",
              "  maker_location  rating bean_type broad_origin  \n",
              "0         France    3.75     blend     Sao Tome  \n",
              "1         France    2.75     blend         Togo  \n",
              "2         France    3.00     blend         Togo  \n",
              "3         France    3.50     blend         Togo  \n",
              "4         France    3.50     blend         Peru  "
            ],
            "text/html": [
              "\n",
              "  <div id=\"df-ae7b4e96-ae94-4f18-ae16-3f1eb59bd6e6\" class=\"colab-df-container\">\n",
              "    <div>\n",
              "<style scoped>\n",
              "    .dataframe tbody tr th:only-of-type {\n",
              "        vertical-align: middle;\n",
              "    }\n",
              "\n",
              "    .dataframe tbody tr th {\n",
              "        vertical-align: top;\n",
              "    }\n",
              "\n",
              "    .dataframe thead th {\n",
              "        text-align: right;\n",
              "    }\n",
              "</style>\n",
              "<table border=\"1\" class=\"dataframe\">\n",
              "  <thead>\n",
              "    <tr style=\"text-align: right;\">\n",
              "      <th></th>\n",
              "      <th>maker</th>\n",
              "      <th>specific_origin</th>\n",
              "      <th>reference_number</th>\n",
              "      <th>review_date</th>\n",
              "      <th>coca_percent</th>\n",
              "      <th>maker_location</th>\n",
              "      <th>rating</th>\n",
              "      <th>bean_type</th>\n",
              "      <th>broad_origin</th>\n",
              "    </tr>\n",
              "  </thead>\n",
              "  <tbody>\n",
              "    <tr>\n",
              "      <th>0</th>\n",
              "      <td>A. Morin</td>\n",
              "      <td>Agua Grande</td>\n",
              "      <td>1876</td>\n",
              "      <td>2016</td>\n",
              "      <td>63.00</td>\n",
              "      <td>France</td>\n",
              "      <td>3.75</td>\n",
              "      <td>blend</td>\n",
              "      <td>Sao Tome</td>\n",
              "    </tr>\n",
              "    <tr>\n",
              "      <th>1</th>\n",
              "      <td>A. Morin</td>\n",
              "      <td>Kpime</td>\n",
              "      <td>1676</td>\n",
              "      <td>2015</td>\n",
              "      <td>70.00</td>\n",
              "      <td>France</td>\n",
              "      <td>2.75</td>\n",
              "      <td>blend</td>\n",
              "      <td>Togo</td>\n",
              "    </tr>\n",
              "    <tr>\n",
              "      <th>2</th>\n",
              "      <td>A. Morin</td>\n",
              "      <td>Atsane</td>\n",
              "      <td>1676</td>\n",
              "      <td>2015</td>\n",
              "      <td>70.00</td>\n",
              "      <td>France</td>\n",
              "      <td>3.00</td>\n",
              "      <td>blend</td>\n",
              "      <td>Togo</td>\n",
              "    </tr>\n",
              "    <tr>\n",
              "      <th>3</th>\n",
              "      <td>A. Morin</td>\n",
              "      <td>Akata</td>\n",
              "      <td>1680</td>\n",
              "      <td>2015</td>\n",
              "      <td>70.00</td>\n",
              "      <td>France</td>\n",
              "      <td>3.50</td>\n",
              "      <td>blend</td>\n",
              "      <td>Togo</td>\n",
              "    </tr>\n",
              "    <tr>\n",
              "      <th>4</th>\n",
              "      <td>A. Morin</td>\n",
              "      <td>Quilla</td>\n",
              "      <td>1704</td>\n",
              "      <td>2015</td>\n",
              "      <td>70.00</td>\n",
              "      <td>France</td>\n",
              "      <td>3.50</td>\n",
              "      <td>blend</td>\n",
              "      <td>Peru</td>\n",
              "    </tr>\n",
              "  </tbody>\n",
              "</table>\n",
              "</div>\n",
              "    <div class=\"colab-df-buttons\">\n",
              "\n",
              "  <div class=\"colab-df-container\">\n",
              "    <button class=\"colab-df-convert\" onclick=\"convertToInteractive('df-ae7b4e96-ae94-4f18-ae16-3f1eb59bd6e6')\"\n",
              "            title=\"Convert this dataframe to an interactive table.\"\n",
              "            style=\"display:none;\">\n",
              "\n",
              "  <svg xmlns=\"http://www.w3.org/2000/svg\" height=\"24px\" viewBox=\"0 -960 960 960\">\n",
              "    <path d=\"M120-120v-720h720v720H120Zm60-500h600v-160H180v160Zm220 220h160v-160H400v160Zm0 220h160v-160H400v160ZM180-400h160v-160H180v160Zm440 0h160v-160H620v160ZM180-180h160v-160H180v160Zm440 0h160v-160H620v160Z\"/>\n",
              "  </svg>\n",
              "    </button>\n",
              "\n",
              "  <style>\n",
              "    .colab-df-container {\n",
              "      display:flex;\n",
              "      gap: 12px;\n",
              "    }\n",
              "\n",
              "    .colab-df-convert {\n",
              "      background-color: #E8F0FE;\n",
              "      border: none;\n",
              "      border-radius: 50%;\n",
              "      cursor: pointer;\n",
              "      display: none;\n",
              "      fill: #1967D2;\n",
              "      height: 32px;\n",
              "      padding: 0 0 0 0;\n",
              "      width: 32px;\n",
              "    }\n",
              "\n",
              "    .colab-df-convert:hover {\n",
              "      background-color: #E2EBFA;\n",
              "      box-shadow: 0px 1px 2px rgba(60, 64, 67, 0.3), 0px 1px 3px 1px rgba(60, 64, 67, 0.15);\n",
              "      fill: #174EA6;\n",
              "    }\n",
              "\n",
              "    .colab-df-buttons div {\n",
              "      margin-bottom: 4px;\n",
              "    }\n",
              "\n",
              "    [theme=dark] .colab-df-convert {\n",
              "      background-color: #3B4455;\n",
              "      fill: #D2E3FC;\n",
              "    }\n",
              "\n",
              "    [theme=dark] .colab-df-convert:hover {\n",
              "      background-color: #434B5C;\n",
              "      box-shadow: 0px 1px 3px 1px rgba(0, 0, 0, 0.15);\n",
              "      filter: drop-shadow(0px 1px 2px rgba(0, 0, 0, 0.3));\n",
              "      fill: #FFFFFF;\n",
              "    }\n",
              "  </style>\n",
              "\n",
              "    <script>\n",
              "      const buttonEl =\n",
              "        document.querySelector('#df-ae7b4e96-ae94-4f18-ae16-3f1eb59bd6e6 button.colab-df-convert');\n",
              "      buttonEl.style.display =\n",
              "        google.colab.kernel.accessAllowed ? 'block' : 'none';\n",
              "\n",
              "      async function convertToInteractive(key) {\n",
              "        const element = document.querySelector('#df-ae7b4e96-ae94-4f18-ae16-3f1eb59bd6e6');\n",
              "        const dataTable =\n",
              "          await google.colab.kernel.invokeFunction('convertToInteractive',\n",
              "                                                    [key], {});\n",
              "        if (!dataTable) return;\n",
              "\n",
              "        const docLinkHtml = 'Like what you see? Visit the ' +\n",
              "          '<a target=\"_blank\" href=https://colab.research.google.com/notebooks/data_table.ipynb>data table notebook</a>'\n",
              "          + ' to learn more about interactive tables.';\n",
              "        element.innerHTML = '';\n",
              "        dataTable['output_type'] = 'display_data';\n",
              "        await google.colab.output.renderOutput(dataTable, element);\n",
              "        const docLink = document.createElement('div');\n",
              "        docLink.innerHTML = docLinkHtml;\n",
              "        element.appendChild(docLink);\n",
              "      }\n",
              "    </script>\n",
              "  </div>\n",
              "\n",
              "\n",
              "<div id=\"df-acea022a-9067-4748-8374-c97cdf0bf1bc\">\n",
              "  <button class=\"colab-df-quickchart\" onclick=\"quickchart('df-acea022a-9067-4748-8374-c97cdf0bf1bc')\"\n",
              "            title=\"Suggest charts\"\n",
              "            style=\"display:none;\">\n",
              "\n",
              "<svg xmlns=\"http://www.w3.org/2000/svg\" height=\"24px\"viewBox=\"0 0 24 24\"\n",
              "     width=\"24px\">\n",
              "    <g>\n",
              "        <path d=\"M19 3H5c-1.1 0-2 .9-2 2v14c0 1.1.9 2 2 2h14c1.1 0 2-.9 2-2V5c0-1.1-.9-2-2-2zM9 17H7v-7h2v7zm4 0h-2V7h2v10zm4 0h-2v-4h2v4z\"/>\n",
              "    </g>\n",
              "</svg>\n",
              "  </button>\n",
              "\n",
              "<style>\n",
              "  .colab-df-quickchart {\n",
              "      --bg-color: #E8F0FE;\n",
              "      --fill-color: #1967D2;\n",
              "      --hover-bg-color: #E2EBFA;\n",
              "      --hover-fill-color: #174EA6;\n",
              "      --disabled-fill-color: #AAA;\n",
              "      --disabled-bg-color: #DDD;\n",
              "  }\n",
              "\n",
              "  [theme=dark] .colab-df-quickchart {\n",
              "      --bg-color: #3B4455;\n",
              "      --fill-color: #D2E3FC;\n",
              "      --hover-bg-color: #434B5C;\n",
              "      --hover-fill-color: #FFFFFF;\n",
              "      --disabled-bg-color: #3B4455;\n",
              "      --disabled-fill-color: #666;\n",
              "  }\n",
              "\n",
              "  .colab-df-quickchart {\n",
              "    background-color: var(--bg-color);\n",
              "    border: none;\n",
              "    border-radius: 50%;\n",
              "    cursor: pointer;\n",
              "    display: none;\n",
              "    fill: var(--fill-color);\n",
              "    height: 32px;\n",
              "    padding: 0;\n",
              "    width: 32px;\n",
              "  }\n",
              "\n",
              "  .colab-df-quickchart:hover {\n",
              "    background-color: var(--hover-bg-color);\n",
              "    box-shadow: 0 1px 2px rgba(60, 64, 67, 0.3), 0 1px 3px 1px rgba(60, 64, 67, 0.15);\n",
              "    fill: var(--button-hover-fill-color);\n",
              "  }\n",
              "\n",
              "  .colab-df-quickchart-complete:disabled,\n",
              "  .colab-df-quickchart-complete:disabled:hover {\n",
              "    background-color: var(--disabled-bg-color);\n",
              "    fill: var(--disabled-fill-color);\n",
              "    box-shadow: none;\n",
              "  }\n",
              "\n",
              "  .colab-df-spinner {\n",
              "    border: 2px solid var(--fill-color);\n",
              "    border-color: transparent;\n",
              "    border-bottom-color: var(--fill-color);\n",
              "    animation:\n",
              "      spin 1s steps(1) infinite;\n",
              "  }\n",
              "\n",
              "  @keyframes spin {\n",
              "    0% {\n",
              "      border-color: transparent;\n",
              "      border-bottom-color: var(--fill-color);\n",
              "      border-left-color: var(--fill-color);\n",
              "    }\n",
              "    20% {\n",
              "      border-color: transparent;\n",
              "      border-left-color: var(--fill-color);\n",
              "      border-top-color: var(--fill-color);\n",
              "    }\n",
              "    30% {\n",
              "      border-color: transparent;\n",
              "      border-left-color: var(--fill-color);\n",
              "      border-top-color: var(--fill-color);\n",
              "      border-right-color: var(--fill-color);\n",
              "    }\n",
              "    40% {\n",
              "      border-color: transparent;\n",
              "      border-right-color: var(--fill-color);\n",
              "      border-top-color: var(--fill-color);\n",
              "    }\n",
              "    60% {\n",
              "      border-color: transparent;\n",
              "      border-right-color: var(--fill-color);\n",
              "    }\n",
              "    80% {\n",
              "      border-color: transparent;\n",
              "      border-right-color: var(--fill-color);\n",
              "      border-bottom-color: var(--fill-color);\n",
              "    }\n",
              "    90% {\n",
              "      border-color: transparent;\n",
              "      border-bottom-color: var(--fill-color);\n",
              "    }\n",
              "  }\n",
              "</style>\n",
              "\n",
              "  <script>\n",
              "    async function quickchart(key) {\n",
              "      const quickchartButtonEl =\n",
              "        document.querySelector('#' + key + ' button');\n",
              "      quickchartButtonEl.disabled = true;  // To prevent multiple clicks.\n",
              "      quickchartButtonEl.classList.add('colab-df-spinner');\n",
              "      try {\n",
              "        const charts = await google.colab.kernel.invokeFunction(\n",
              "            'suggestCharts', [key], {});\n",
              "      } catch (error) {\n",
              "        console.error('Error during call to suggestCharts:', error);\n",
              "      }\n",
              "      quickchartButtonEl.classList.remove('colab-df-spinner');\n",
              "      quickchartButtonEl.classList.add('colab-df-quickchart-complete');\n",
              "    }\n",
              "    (() => {\n",
              "      let quickchartButtonEl =\n",
              "        document.querySelector('#df-acea022a-9067-4748-8374-c97cdf0bf1bc button');\n",
              "      quickchartButtonEl.style.display =\n",
              "        google.colab.kernel.accessAllowed ? 'block' : 'none';\n",
              "    })();\n",
              "  </script>\n",
              "</div>\n",
              "\n",
              "    </div>\n",
              "  </div>\n"
            ],
            "application/vnd.google.colaboratory.intrinsic+json": {
              "type": "dataframe",
              "variable_name": "Choc_data",
              "summary": "{\n  \"name\": \"Choc_data\",\n  \"rows\": 1795,\n  \"fields\": [\n    {\n      \"column\": \"maker\",\n      \"properties\": {\n        \"dtype\": \"category\",\n        \"num_unique_values\": 414,\n        \"samples\": [\n          \"Spencer\",\n          \"Sol Cacao\",\n          \"Taza\"\n        ],\n        \"semantic_type\": \"\",\n        \"description\": \"\"\n      }\n    },\n    {\n      \"column\": \"specific_origin\",\n      \"properties\": {\n        \"dtype\": \"string\",\n        \"num_unique_values\": 1038,\n        \"samples\": [\n          \"Patanemo\",\n          \"Madagascar,lot M0403R\",\n          \"Satipo region,white label\"\n        ],\n        \"semantic_type\": \"\",\n        \"description\": \"\"\n      }\n    },\n    {\n      \"column\": \"reference_number\",\n      \"properties\": {\n        \"dtype\": \"number\",\n        \"std\": 552,\n        \"min\": 5,\n        \"max\": 1952,\n        \"num_unique_values\": 440,\n        \"samples\": [\n          135,\n          995,\n          1363\n        ],\n        \"semantic_type\": \"\",\n        \"description\": \"\"\n      }\n    },\n    {\n      \"column\": \"review_date\",\n      \"properties\": {\n        \"dtype\": \"number\",\n        \"std\": 2,\n        \"min\": 2006,\n        \"max\": 2017,\n        \"num_unique_values\": 12,\n        \"samples\": [\n          2007,\n          2008,\n          2016\n        ],\n        \"semantic_type\": \"\",\n        \"description\": \"\"\n      }\n    },\n    {\n      \"column\": \"coca_percent\",\n      \"properties\": {\n        \"dtype\": \"number\",\n        \"std\": 6.323118338429188,\n        \"min\": 42.0,\n        \"max\": 100.0,\n        \"num_unique_values\": 45,\n        \"samples\": [\n          46.0,\n          69.0,\n          91.0\n        ],\n        \"semantic_type\": \"\",\n        \"description\": \"\"\n      }\n    },\n    {\n      \"column\": \"maker_location\",\n      \"properties\": {\n        \"dtype\": \"category\",\n        \"num_unique_values\": 58,\n        \"samples\": [\n          \"France\",\n          \"Switzerland\",\n          \"Singapore\"\n        ],\n        \"semantic_type\": \"\",\n        \"description\": \"\"\n      }\n    },\n    {\n      \"column\": \"rating\",\n      \"properties\": {\n        \"dtype\": \"number\",\n        \"std\": 0.4780623935863305,\n        \"min\": 1.0,\n        \"max\": 5.0,\n        \"num_unique_values\": 13,\n        \"samples\": [\n          2.0,\n          1.5,\n          3.75\n        ],\n        \"semantic_type\": \"\",\n        \"description\": \"\"\n      }\n    },\n    {\n      \"column\": \"bean_type\",\n      \"properties\": {\n        \"dtype\": \"category\",\n        \"num_unique_values\": 40,\n        \"samples\": [\n          \"Beniano\",\n          \"Criollo (Ocumare 77)\",\n          \"Criollo (Ocumare 61)\"\n        ],\n        \"semantic_type\": \"\",\n        \"description\": \"\"\n      }\n    },\n    {\n      \"column\": \"broad_origin\",\n      \"properties\": {\n        \"dtype\": \"category\",\n        \"num_unique_values\": 160,\n        \"samples\": [\n          \"Peru,Madagascar,Dominican Republic\",\n          \"El Salvador\",\n          \"Dominican Republic,Madagascar\"\n        ],\n        \"semantic_type\": \"\",\n        \"description\": \"\"\n      }\n    }\n  ]\n}"
            }
          },
          "metadata": {},
          "execution_count": 59
        }
      ]
    },
    {
      "cell_type": "code",
      "source": [
        "# prompt: Review_date maker location\n",
        "\n",
        "Choc_data['review_date'] = pd.to_datetime(Choc_data['review_date'], errors='coerce', format='%Y-%m-%d')\n",
        "Choc_data['review_date'].describe()\n",
        "Choc_data['review_date'].fillna(Choc_data['review_date'].mean(), inplace=True)\n",
        "Choc_data['review_date'].describe()\n",
        "Choc_data.loc[Choc_data['review_date'] < '2000-01-01', 'review_date'] = Choc_data['review_date'].mean()\n",
        "Choc_data['review_date'].describe()\n",
        "Choc_data['review_date'] = Choc_data['review_date'].dt.year\n",
        "Choc_data['review_date'].unique()\n",
        "Choc_data['review_date'].value_counts()\n",
        "Choc_data['review_date'].value_counts().sort_index()\n",
        "Choc_data['review_date'].value_counts().sort_index().plot.bar()\n",
        "plt.xticks(rotation=45)\n",
        "plt.title('Number of Reviews per Year')\n",
        "plt.xlabel('Year')\n",
        "plt.ylabel('Number of Reviews')\n",
        "plt.show()\n",
        "Choc_data['review_date'].value_counts().sort_index().plot.barh()\n",
        "plt.title('Number of Reviews per Year')\n",
        "plt.xlabel('Number of Reviews')\n",
        "plt.ylabel('Year')\n",
        "plt.show()\n",
        "Choc_data['rating'].describe()\n",
        "Choc_data['rating'].value_counts().sort_index()\n",
        "Choc_data['rating'].value_counts().sort_index().plot.bar()\n",
        "plt.xticks(rotation=0)\n",
        "plt.title('Number of Reviews per Rating')\n",
        "plt.xlabel('Rating')\n",
        "plt.ylabel('Number of Reviews')\n",
        "plt.show()\n",
        "Choc_data['coca_percent'].describe()\n",
        "Choc_data['coca_percent'].value_counts().sort_index().plot.bar()\n",
        "plt.xticks(rotation=0)\n",
        "plt.title('Number of Reviews per Cacao Percentage')\n",
        "plt.xlabel('Cacao Percentage')\n",
        "plt.ylabel('Number of Reviews')\n",
        "plt.show()\n",
        "Choc_data['maker_location'].value_counts().sort_index()\n",
        "Choc_data['maker_location'].value_counts().sort_index().plot.barh()\n",
        "plt.title('Number of Reviews per Maker Location')\n",
        "plt.xlabel('Number of Reviews')\n",
        "plt.ylabel('Maker Location')\n",
        "plt.show()\n",
        "Choc_data['broad_origin'].value_counts().sort_index().plot.barh()\n",
        "plt.title('Number of Reviews per Broad Origin')\n",
        "plt.xlabel('Number of Reviews')\n",
        "plt.ylabel('Broad Origin')\n",
        "plt.show()\n",
        "Choc_data['bean_type'].value_counts().sort_index().plot.barh()\n",
        "plt.title('Number of Reviews per Bean Type')\n",
        "plt.xlabel('Number of Reviews')\n",
        "plt.ylabel('Bean Type')\n",
        "plt.show()\n",
        "Choc_data.groupby('bean_type')['rating'].mean().sort_values(ascending=False)\n",
        "Choc_data.groupby('broad_origin')['rating'].mean().sort_values(ascending=False)\n",
        "Choc_data.groupby('maker_location')['rating'].mean().sort_values(ascending=False)\n",
        "Choc_data.groupby('review_date')['rating'].mean().sort_values(ascending=False)\n",
        "Choc_data.groupby('coca_percent')['rating'].mean().sort_values(ascending=False)\n",
        "Choc_data.groupby('coca_percent')['rating'].mean().plot()\n",
        "plt.title('Average Rating by Cacao Percentage')\n",
        "plt.xlabel('Cacao Percentage')\n",
        "plt.ylabel('Average Rating')\n",
        "plt.show()\n",
        "Choc_data.groupby('maker')['rating'].mean().sort_values(ascending=False).head(10)\n",
        "Choc_data.groupby('maker')['rating'].mean().sort_values(ascending=False).head(10).plot.bar()\n",
        "plt.xticks(rotation=45)\n",
        "plt.title('Top 10 Makers by Average Rating')\n",
        "plt.xlabel('Maker')\n",
        "plt.ylabel('Average Rating')\n",
        "plt.show()\n",
        "Choc_data.groupby('broad_origin')['rating'].mean().sort_values(ascending=False).head(10)\n",
        "Choc_data.groupby('broad_origin')['rating'].mean().sort_values(ascending=False).head(10).plot.bar()\n",
        "plt.xticks(rotation=45)\n",
        "plt.title('Top 10 Broad Origins by Average Rating')\n",
        "plt.xlabel('Broad Origin')\n",
        "plt.ylabel('Average Rating')\n",
        "plt.show()\n",
        "Choc_data.groupby('maker_location')['rating'].mean().sort_values(ascending=False).head(10)\n",
        "Choc_data.groupby('maker_location')['rating'].mean().sort_values(ascending=False).head(10).plot.bar()\n",
        "plt.xticks(rotation=45)\n",
        "plt.title('Top 10 Maker Locations by Average Rating')\n",
        "plt.xlabel('Maker Location')\n",
        "plt.ylabel('Average Rating')\n",
        "plt.show()\n",
        "Choc_data.groupby('review_date')['rating'].mean().plot()\n",
        "plt.title('Average Rating by Review Year')\n",
        "plt.xlabel('Review Year')\n",
        "plt.ylabel('Average Rating')\n",
        "plt.show()\n",
        "Choc_data.groupby('coca_percent')['rating'].mean().plot()\n",
        "plt.title('Average Rating by Cacao Percentage')\n",
        "plt.xlabel('Cacao Percentage')\n",
        "plt.ylabel('Average Rating')\n",
        "plt.show()\n",
        "Choc_data.groupby('maker')['rating'].mean().plot()\n",
        "plt.title('Average Rating by Maker')\n",
        "plt.xlabel('Maker')\n",
        "plt.ylabel('Average Rating')\n",
        "plt.show()\n",
        "Choc_data.groupby('broad_origin')['rating'].mean().plot()\n",
        "plt.title('Average Rating by Broad Origin')\n",
        "plt.xlabel('Broad Origin')\n",
        "plt.ylabel('Average Rating')\n",
        "plt.show()\n",
        "Choc_data.groupby('maker_location')['rating'].mean().plot()\n",
        "plt.title('Average Rating by Maker Location')\n",
        "plt.xlabel('Maker Location')\n",
        "plt.ylabel('Average Rating')\n",
        "plt.show()\n",
        "Choc_data.groupby('bean_type')['rating'].mean().plot()\n",
        "plt.title('Average Rating by Bean Type')\n",
        "plt.xlabel('Bean Type')\n",
        "plt.ylabel('Average Rating')\n",
        "plt.show()\n",
        "Choc_data.groupby('maker')['rating'].count().sort_values(ascending=False).head(10)\n",
        "Choc_data.groupby('maker')['rating'].count().sort_values(ascending=False).head(10).plot.bar()\n",
        "plt.xticks(rotation=45)\n",
        "plt.title('Top 10 Makers by Number of Reviews')\n",
        "plt.xlabel('Maker')\n",
        "plt.ylabel('Number of Reviews')\n",
        "plt.show()\n",
        "Choc_data.groupby('broad_origin')['rating'].count().sort_values(ascending=False).head(10)\n",
        "Choc_data.groupby('broad_origin')['rating'].count().sort_values(ascending=False).head(10).plot.bar()\n",
        "plt.xticks(rotation=45)\n",
        "plt.title('Top 10 Broad Origins by Number of Reviews')\n",
        "plt.xlabel('Broad Origin')\n",
        "plt.ylabel('Number of Reviews')\n",
        "plt.show()\n",
        "Choc_data.groupby('maker_location')['rating'].count().sort_values(ascending=False).head(10)\n",
        "Choc_data.groupby('maker_location')['rating'].count().sort_values(ascending=False).head(10).plot.bar()\n",
        "plt.xticks(rotation=45)\n",
        "plt.title('Top 10 Maker Locations by Number of Reviews')\n",
        "plt.xlabel('Maker Location')\n",
        "plt.ylabel('Number of Reviews')\n",
        "plt.show()\n",
        "Choc_data.groupby('review_date')['rating'].count().plot()\n",
        "plt.title('Number of Reviews by Review Year')\n",
        "plt.xlabel('Review Year')\n",
        "plt.ylabel('Number of Reviews')\n",
        "plt.show()\n",
        "Choc_data.groupby('coca_percent')['rating'].count().plot()\n",
        "plt.title('Number of Reviews by Cacao Percentage')\n",
        "plt.xlabel('Cacao Percentage')\n",
        "plt.ylabel('Number of Reviews')\n",
        "plt.show()\n",
        "Choc_data.groupby('maker')['rating'].count().plot()\n",
        "plt.title('Number of Reviews by Maker')\n",
        "plt.xlabel('Maker')\n",
        "plt.ylabel('Number of Reviews')\n",
        "plt.show()\n",
        "Choc_data.groupby('broad_origin')['rating'].count().plot()\n",
        "plt.title('Number of Reviews by Broad Origin')\n",
        "plt.xlabel('Broad Origin')\n",
        "plt.ylabel('Number of Reviews')\n",
        "plt.show()\n",
        "Choc_data.groupby('maker_location')['rating'].count().plot()\n",
        "plt.title('Number of Reviews by Maker Location')\n",
        "plt.xlabel('Maker Location')\n",
        "plt.ylabel('Number of"
      ],
      "metadata": {
        "colab": {
          "base_uri": "https://localhost:8080/",
          "height": 146
        },
        "id": "Xa07JcdvMy7N",
        "outputId": "e6c0ec1f-4831-4c5a-c8b9-72cb8782ff86"
      },
      "execution_count": null,
      "outputs": [
        {
          "output_type": "error",
          "ename": "TypeError",
          "evalue": "'method' object is not subscriptable",
          "traceback": [
            "\u001b[0;31m---------------------------------------------------------------------------\u001b[0m",
            "\u001b[0;31mTypeError\u001b[0m                                 Traceback (most recent call last)",
            "\u001b[0;32m<ipython-input-64-011f215f2839>\u001b[0m in \u001b[0;36m<cell line: 1>\u001b[0;34m()\u001b[0m\n\u001b[0;32m----> 1\u001b[0;31m \u001b[0mChoc_data\u001b[0m\u001b[0;34m.\u001b[0m\u001b[0mhead\u001b[0m\u001b[0;34m[\u001b[0m\u001b[0;34m'review_date'\u001b[0m\u001b[0;34m]\u001b[0m\u001b[0;34m\u001b[0m\u001b[0;34m\u001b[0m\u001b[0m\n\u001b[0m",
            "\u001b[0;31mTypeError\u001b[0m: 'method' object is not subscriptable"
          ]
        }
      ]
    },
    {
      "cell_type": "code",
      "source": [
        "Choc_data['review_date'].describe()\n"
      ],
      "metadata": {
        "colab": {
          "base_uri": "https://localhost:8080/"
        },
        "id": "RPRv-JZrO4AK",
        "outputId": "0465aa82-9015-4465-dcb8-3a7dfd5ec20b"
      },
      "execution_count": null,
      "outputs": [
        {
          "output_type": "execute_result",
          "data": {
            "text/plain": [
              "count   1795.00\n",
              "mean    2012.33\n",
              "std        2.93\n",
              "min     2006.00\n",
              "25%     2010.00\n",
              "50%     2013.00\n",
              "75%     2015.00\n",
              "max     2017.00\n",
              "Name: review_date, dtype: float64"
            ]
          },
          "metadata": {},
          "execution_count": 66
        }
      ]
    },
    {
      "cell_type": "code",
      "source": [
        "Choc_data['review_date'].unique()"
      ],
      "metadata": {
        "colab": {
          "base_uri": "https://localhost:8080/"
        },
        "id": "GnXacqDmPhjH",
        "outputId": "d8ebb4dd-177e-44f5-8324-6bbb15114a4e"
      },
      "execution_count": null,
      "outputs": [
        {
          "output_type": "execute_result",
          "data": {
            "text/plain": [
              "array([2016, 2015, 2014, 2013, 2012, 2011, 2009, 2010, 2017, 2008, 2007,\n",
              "       2006])"
            ]
          },
          "metadata": {},
          "execution_count": 69
        }
      ]
    },
    {
      "cell_type": "code",
      "source": [
        "Choc_data.index"
      ],
      "metadata": {
        "colab": {
          "base_uri": "https://localhost:8080/"
        },
        "id": "KJgKdzmbQnp9",
        "outputId": "696674e3-678d-47ee-98db-aa11f21a5acb"
      },
      "execution_count": null,
      "outputs": [
        {
          "output_type": "execute_result",
          "data": {
            "text/plain": [
              "RangeIndex(start=0, stop=1795, step=1)"
            ]
          },
          "metadata": {},
          "execution_count": 70
        }
      ]
    },
    {
      "cell_type": "code",
      "source": [
        "Choc_data.sort_index(axis=)"
      ],
      "metadata": {
        "id": "z8cxl6ipSjo_"
      },
      "execution_count": null,
      "outputs": []
    },
    {
      "cell_type": "markdown",
      "source": [
        "cual fue el mejor broad origin con el mejor rating en el 2011??"
      ],
      "metadata": {
        "id": "pd3nLPr5TJyp"
      }
    },
    {
      "cell_type": "code",
      "source": [
        "Choc_data[Choc_data['review_date']>=2011]"
      ],
      "metadata": {
        "colab": {
          "base_uri": "https://localhost:8080/",
          "height": 530
        },
        "id": "0yeyWMooTnGl",
        "outputId": "aa3a7283-a931-4174-c8b0-ea3108885beb"
      },
      "execution_count": null,
      "outputs": [
        {
          "output_type": "execute_result",
          "data": {
            "text/plain": [
              "         maker specific_origin  reference_number  review_date  coca_percent  \\\n",
              "0     A. Morin     Agua Grande              1876         2016         63.00   \n",
              "1     A. Morin           Kpime              1676         2015         70.00   \n",
              "2     A. Morin          Atsane              1676         2015         70.00   \n",
              "3     A. Morin           Akata              1680         2015         70.00   \n",
              "4     A. Morin          Quilla              1704         2015         70.00   \n",
              "...        ...             ...               ...          ...           ...   \n",
              "1789    Zotter    Indianer,Raw               883         2012         58.00   \n",
              "1790    Zotter            Peru               647         2011         70.00   \n",
              "1791    Zotter           Congo               749         2011         65.00   \n",
              "1792    Zotter    Kerala State               749         2011         65.00   \n",
              "1793    Zotter    Kerala State               781         2011         62.00   \n",
              "\n",
              "     maker_location  rating  bean_type  broad_origin  \n",
              "0            France    3.75      blend      Sao Tome  \n",
              "1            France    2.75      blend          Togo  \n",
              "2            France    3.00      blend          Togo  \n",
              "3            France    3.50      blend          Togo  \n",
              "4            France    3.50      blend          Peru  \n",
              "...             ...     ...        ...           ...  \n",
              "1789        Austria    3.50      blend  Indianer,Raw  \n",
              "1790        Austria    3.75      blend          Peru  \n",
              "1791        Austria    3.00  Forastero         Congo  \n",
              "1792        Austria    3.50  Forastero         India  \n",
              "1793        Austria    3.25      blend         India  \n",
              "\n",
              "[1319 rows x 9 columns]"
            ],
            "text/html": [
              "\n",
              "  <div id=\"df-8d65faa3-34ce-471e-aaa3-2be10a08dc06\" class=\"colab-df-container\">\n",
              "    <div>\n",
              "<style scoped>\n",
              "    .dataframe tbody tr th:only-of-type {\n",
              "        vertical-align: middle;\n",
              "    }\n",
              "\n",
              "    .dataframe tbody tr th {\n",
              "        vertical-align: top;\n",
              "    }\n",
              "\n",
              "    .dataframe thead th {\n",
              "        text-align: right;\n",
              "    }\n",
              "</style>\n",
              "<table border=\"1\" class=\"dataframe\">\n",
              "  <thead>\n",
              "    <tr style=\"text-align: right;\">\n",
              "      <th></th>\n",
              "      <th>maker</th>\n",
              "      <th>specific_origin</th>\n",
              "      <th>reference_number</th>\n",
              "      <th>review_date</th>\n",
              "      <th>coca_percent</th>\n",
              "      <th>maker_location</th>\n",
              "      <th>rating</th>\n",
              "      <th>bean_type</th>\n",
              "      <th>broad_origin</th>\n",
              "    </tr>\n",
              "  </thead>\n",
              "  <tbody>\n",
              "    <tr>\n",
              "      <th>0</th>\n",
              "      <td>A. Morin</td>\n",
              "      <td>Agua Grande</td>\n",
              "      <td>1876</td>\n",
              "      <td>2016</td>\n",
              "      <td>63.00</td>\n",
              "      <td>France</td>\n",
              "      <td>3.75</td>\n",
              "      <td>blend</td>\n",
              "      <td>Sao Tome</td>\n",
              "    </tr>\n",
              "    <tr>\n",
              "      <th>1</th>\n",
              "      <td>A. Morin</td>\n",
              "      <td>Kpime</td>\n",
              "      <td>1676</td>\n",
              "      <td>2015</td>\n",
              "      <td>70.00</td>\n",
              "      <td>France</td>\n",
              "      <td>2.75</td>\n",
              "      <td>blend</td>\n",
              "      <td>Togo</td>\n",
              "    </tr>\n",
              "    <tr>\n",
              "      <th>2</th>\n",
              "      <td>A. Morin</td>\n",
              "      <td>Atsane</td>\n",
              "      <td>1676</td>\n",
              "      <td>2015</td>\n",
              "      <td>70.00</td>\n",
              "      <td>France</td>\n",
              "      <td>3.00</td>\n",
              "      <td>blend</td>\n",
              "      <td>Togo</td>\n",
              "    </tr>\n",
              "    <tr>\n",
              "      <th>3</th>\n",
              "      <td>A. Morin</td>\n",
              "      <td>Akata</td>\n",
              "      <td>1680</td>\n",
              "      <td>2015</td>\n",
              "      <td>70.00</td>\n",
              "      <td>France</td>\n",
              "      <td>3.50</td>\n",
              "      <td>blend</td>\n",
              "      <td>Togo</td>\n",
              "    </tr>\n",
              "    <tr>\n",
              "      <th>4</th>\n",
              "      <td>A. Morin</td>\n",
              "      <td>Quilla</td>\n",
              "      <td>1704</td>\n",
              "      <td>2015</td>\n",
              "      <td>70.00</td>\n",
              "      <td>France</td>\n",
              "      <td>3.50</td>\n",
              "      <td>blend</td>\n",
              "      <td>Peru</td>\n",
              "    </tr>\n",
              "    <tr>\n",
              "      <th>...</th>\n",
              "      <td>...</td>\n",
              "      <td>...</td>\n",
              "      <td>...</td>\n",
              "      <td>...</td>\n",
              "      <td>...</td>\n",
              "      <td>...</td>\n",
              "      <td>...</td>\n",
              "      <td>...</td>\n",
              "      <td>...</td>\n",
              "    </tr>\n",
              "    <tr>\n",
              "      <th>1789</th>\n",
              "      <td>Zotter</td>\n",
              "      <td>Indianer,Raw</td>\n",
              "      <td>883</td>\n",
              "      <td>2012</td>\n",
              "      <td>58.00</td>\n",
              "      <td>Austria</td>\n",
              "      <td>3.50</td>\n",
              "      <td>blend</td>\n",
              "      <td>Indianer,Raw</td>\n",
              "    </tr>\n",
              "    <tr>\n",
              "      <th>1790</th>\n",
              "      <td>Zotter</td>\n",
              "      <td>Peru</td>\n",
              "      <td>647</td>\n",
              "      <td>2011</td>\n",
              "      <td>70.00</td>\n",
              "      <td>Austria</td>\n",
              "      <td>3.75</td>\n",
              "      <td>blend</td>\n",
              "      <td>Peru</td>\n",
              "    </tr>\n",
              "    <tr>\n",
              "      <th>1791</th>\n",
              "      <td>Zotter</td>\n",
              "      <td>Congo</td>\n",
              "      <td>749</td>\n",
              "      <td>2011</td>\n",
              "      <td>65.00</td>\n",
              "      <td>Austria</td>\n",
              "      <td>3.00</td>\n",
              "      <td>Forastero</td>\n",
              "      <td>Congo</td>\n",
              "    </tr>\n",
              "    <tr>\n",
              "      <th>1792</th>\n",
              "      <td>Zotter</td>\n",
              "      <td>Kerala State</td>\n",
              "      <td>749</td>\n",
              "      <td>2011</td>\n",
              "      <td>65.00</td>\n",
              "      <td>Austria</td>\n",
              "      <td>3.50</td>\n",
              "      <td>Forastero</td>\n",
              "      <td>India</td>\n",
              "    </tr>\n",
              "    <tr>\n",
              "      <th>1793</th>\n",
              "      <td>Zotter</td>\n",
              "      <td>Kerala State</td>\n",
              "      <td>781</td>\n",
              "      <td>2011</td>\n",
              "      <td>62.00</td>\n",
              "      <td>Austria</td>\n",
              "      <td>3.25</td>\n",
              "      <td>blend</td>\n",
              "      <td>India</td>\n",
              "    </tr>\n",
              "  </tbody>\n",
              "</table>\n",
              "<p>1319 rows × 9 columns</p>\n",
              "</div>\n",
              "    <div class=\"colab-df-buttons\">\n",
              "\n",
              "  <div class=\"colab-df-container\">\n",
              "    <button class=\"colab-df-convert\" onclick=\"convertToInteractive('df-8d65faa3-34ce-471e-aaa3-2be10a08dc06')\"\n",
              "            title=\"Convert this dataframe to an interactive table.\"\n",
              "            style=\"display:none;\">\n",
              "\n",
              "  <svg xmlns=\"http://www.w3.org/2000/svg\" height=\"24px\" viewBox=\"0 -960 960 960\">\n",
              "    <path d=\"M120-120v-720h720v720H120Zm60-500h600v-160H180v160Zm220 220h160v-160H400v160Zm0 220h160v-160H400v160ZM180-400h160v-160H180v160Zm440 0h160v-160H620v160ZM180-180h160v-160H180v160Zm440 0h160v-160H620v160Z\"/>\n",
              "  </svg>\n",
              "    </button>\n",
              "\n",
              "  <style>\n",
              "    .colab-df-container {\n",
              "      display:flex;\n",
              "      gap: 12px;\n",
              "    }\n",
              "\n",
              "    .colab-df-convert {\n",
              "      background-color: #E8F0FE;\n",
              "      border: none;\n",
              "      border-radius: 50%;\n",
              "      cursor: pointer;\n",
              "      display: none;\n",
              "      fill: #1967D2;\n",
              "      height: 32px;\n",
              "      padding: 0 0 0 0;\n",
              "      width: 32px;\n",
              "    }\n",
              "\n",
              "    .colab-df-convert:hover {\n",
              "      background-color: #E2EBFA;\n",
              "      box-shadow: 0px 1px 2px rgba(60, 64, 67, 0.3), 0px 1px 3px 1px rgba(60, 64, 67, 0.15);\n",
              "      fill: #174EA6;\n",
              "    }\n",
              "\n",
              "    .colab-df-buttons div {\n",
              "      margin-bottom: 4px;\n",
              "    }\n",
              "\n",
              "    [theme=dark] .colab-df-convert {\n",
              "      background-color: #3B4455;\n",
              "      fill: #D2E3FC;\n",
              "    }\n",
              "\n",
              "    [theme=dark] .colab-df-convert:hover {\n",
              "      background-color: #434B5C;\n",
              "      box-shadow: 0px 1px 3px 1px rgba(0, 0, 0, 0.15);\n",
              "      filter: drop-shadow(0px 1px 2px rgba(0, 0, 0, 0.3));\n",
              "      fill: #FFFFFF;\n",
              "    }\n",
              "  </style>\n",
              "\n",
              "    <script>\n",
              "      const buttonEl =\n",
              "        document.querySelector('#df-8d65faa3-34ce-471e-aaa3-2be10a08dc06 button.colab-df-convert');\n",
              "      buttonEl.style.display =\n",
              "        google.colab.kernel.accessAllowed ? 'block' : 'none';\n",
              "\n",
              "      async function convertToInteractive(key) {\n",
              "        const element = document.querySelector('#df-8d65faa3-34ce-471e-aaa3-2be10a08dc06');\n",
              "        const dataTable =\n",
              "          await google.colab.kernel.invokeFunction('convertToInteractive',\n",
              "                                                    [key], {});\n",
              "        if (!dataTable) return;\n",
              "\n",
              "        const docLinkHtml = 'Like what you see? Visit the ' +\n",
              "          '<a target=\"_blank\" href=https://colab.research.google.com/notebooks/data_table.ipynb>data table notebook</a>'\n",
              "          + ' to learn more about interactive tables.';\n",
              "        element.innerHTML = '';\n",
              "        dataTable['output_type'] = 'display_data';\n",
              "        await google.colab.output.renderOutput(dataTable, element);\n",
              "        const docLink = document.createElement('div');\n",
              "        docLink.innerHTML = docLinkHtml;\n",
              "        element.appendChild(docLink);\n",
              "      }\n",
              "    </script>\n",
              "  </div>\n",
              "\n",
              "\n",
              "<div id=\"df-6bc3d0e2-3dd7-412c-9018-3de21e4c9c62\">\n",
              "  <button class=\"colab-df-quickchart\" onclick=\"quickchart('df-6bc3d0e2-3dd7-412c-9018-3de21e4c9c62')\"\n",
              "            title=\"Suggest charts\"\n",
              "            style=\"display:none;\">\n",
              "\n",
              "<svg xmlns=\"http://www.w3.org/2000/svg\" height=\"24px\"viewBox=\"0 0 24 24\"\n",
              "     width=\"24px\">\n",
              "    <g>\n",
              "        <path d=\"M19 3H5c-1.1 0-2 .9-2 2v14c0 1.1.9 2 2 2h14c1.1 0 2-.9 2-2V5c0-1.1-.9-2-2-2zM9 17H7v-7h2v7zm4 0h-2V7h2v10zm4 0h-2v-4h2v4z\"/>\n",
              "    </g>\n",
              "</svg>\n",
              "  </button>\n",
              "\n",
              "<style>\n",
              "  .colab-df-quickchart {\n",
              "      --bg-color: #E8F0FE;\n",
              "      --fill-color: #1967D2;\n",
              "      --hover-bg-color: #E2EBFA;\n",
              "      --hover-fill-color: #174EA6;\n",
              "      --disabled-fill-color: #AAA;\n",
              "      --disabled-bg-color: #DDD;\n",
              "  }\n",
              "\n",
              "  [theme=dark] .colab-df-quickchart {\n",
              "      --bg-color: #3B4455;\n",
              "      --fill-color: #D2E3FC;\n",
              "      --hover-bg-color: #434B5C;\n",
              "      --hover-fill-color: #FFFFFF;\n",
              "      --disabled-bg-color: #3B4455;\n",
              "      --disabled-fill-color: #666;\n",
              "  }\n",
              "\n",
              "  .colab-df-quickchart {\n",
              "    background-color: var(--bg-color);\n",
              "    border: none;\n",
              "    border-radius: 50%;\n",
              "    cursor: pointer;\n",
              "    display: none;\n",
              "    fill: var(--fill-color);\n",
              "    height: 32px;\n",
              "    padding: 0;\n",
              "    width: 32px;\n",
              "  }\n",
              "\n",
              "  .colab-df-quickchart:hover {\n",
              "    background-color: var(--hover-bg-color);\n",
              "    box-shadow: 0 1px 2px rgba(60, 64, 67, 0.3), 0 1px 3px 1px rgba(60, 64, 67, 0.15);\n",
              "    fill: var(--button-hover-fill-color);\n",
              "  }\n",
              "\n",
              "  .colab-df-quickchart-complete:disabled,\n",
              "  .colab-df-quickchart-complete:disabled:hover {\n",
              "    background-color: var(--disabled-bg-color);\n",
              "    fill: var(--disabled-fill-color);\n",
              "    box-shadow: none;\n",
              "  }\n",
              "\n",
              "  .colab-df-spinner {\n",
              "    border: 2px solid var(--fill-color);\n",
              "    border-color: transparent;\n",
              "    border-bottom-color: var(--fill-color);\n",
              "    animation:\n",
              "      spin 1s steps(1) infinite;\n",
              "  }\n",
              "\n",
              "  @keyframes spin {\n",
              "    0% {\n",
              "      border-color: transparent;\n",
              "      border-bottom-color: var(--fill-color);\n",
              "      border-left-color: var(--fill-color);\n",
              "    }\n",
              "    20% {\n",
              "      border-color: transparent;\n",
              "      border-left-color: var(--fill-color);\n",
              "      border-top-color: var(--fill-color);\n",
              "    }\n",
              "    30% {\n",
              "      border-color: transparent;\n",
              "      border-left-color: var(--fill-color);\n",
              "      border-top-color: var(--fill-color);\n",
              "      border-right-color: var(--fill-color);\n",
              "    }\n",
              "    40% {\n",
              "      border-color: transparent;\n",
              "      border-right-color: var(--fill-color);\n",
              "      border-top-color: var(--fill-color);\n",
              "    }\n",
              "    60% {\n",
              "      border-color: transparent;\n",
              "      border-right-color: var(--fill-color);\n",
              "    }\n",
              "    80% {\n",
              "      border-color: transparent;\n",
              "      border-right-color: var(--fill-color);\n",
              "      border-bottom-color: var(--fill-color);\n",
              "    }\n",
              "    90% {\n",
              "      border-color: transparent;\n",
              "      border-bottom-color: var(--fill-color);\n",
              "    }\n",
              "  }\n",
              "</style>\n",
              "\n",
              "  <script>\n",
              "    async function quickchart(key) {\n",
              "      const quickchartButtonEl =\n",
              "        document.querySelector('#' + key + ' button');\n",
              "      quickchartButtonEl.disabled = true;  // To prevent multiple clicks.\n",
              "      quickchartButtonEl.classList.add('colab-df-spinner');\n",
              "      try {\n",
              "        const charts = await google.colab.kernel.invokeFunction(\n",
              "            'suggestCharts', [key], {});\n",
              "      } catch (error) {\n",
              "        console.error('Error during call to suggestCharts:', error);\n",
              "      }\n",
              "      quickchartButtonEl.classList.remove('colab-df-spinner');\n",
              "      quickchartButtonEl.classList.add('colab-df-quickchart-complete');\n",
              "    }\n",
              "    (() => {\n",
              "      let quickchartButtonEl =\n",
              "        document.querySelector('#df-6bc3d0e2-3dd7-412c-9018-3de21e4c9c62 button');\n",
              "      quickchartButtonEl.style.display =\n",
              "        google.colab.kernel.accessAllowed ? 'block' : 'none';\n",
              "    })();\n",
              "  </script>\n",
              "</div>\n",
              "\n",
              "    </div>\n",
              "  </div>\n"
            ],
            "application/vnd.google.colaboratory.intrinsic+json": {
              "type": "dataframe",
              "summary": "{\n  \"name\": \"Choc_data[Choc_data['review_date']>=2011]\",\n  \"rows\": 1319,\n  \"fields\": [\n    {\n      \"column\": \"maker\",\n      \"properties\": {\n        \"dtype\": \"category\",\n        \"num_unique_values\": 357,\n        \"samples\": [\n          \"Moho\",\n          \"Britarev\",\n          \"Sirene\"\n        ],\n        \"semantic_type\": \"\",\n        \"description\": \"\"\n      }\n    },\n    {\n      \"column\": \"specific_origin\",\n      \"properties\": {\n        \"dtype\": \"string\",\n        \"num_unique_values\": 792,\n        \"samples\": [\n          \"Dominican Republic,lot D82R\",\n          \"Indonesia\",\n          \"Guantupi River\"\n        ],\n        \"semantic_type\": \"\",\n        \"description\": \"\"\n      }\n    },\n    {\n      \"column\": \"reference_number\",\n      \"properties\": {\n        \"dtype\": \"number\",\n        \"std\": 381,\n        \"min\": 623,\n        \"max\": 1952,\n        \"num_unique_values\": 332,\n        \"samples\": [\n          1494,\n          1622,\n          963\n        ],\n        \"semantic_type\": \"\",\n        \"description\": \"\"\n      }\n    },\n    {\n      \"column\": \"review_date\",\n      \"properties\": {\n        \"dtype\": \"number\",\n        \"std\": 1,\n        \"min\": 2011,\n        \"max\": 2017,\n        \"num_unique_values\": 7,\n        \"samples\": [\n          2016,\n          2015,\n          2011\n        ],\n        \"semantic_type\": \"\",\n        \"description\": \"\"\n      }\n    },\n    {\n      \"column\": \"coca_percent\",\n      \"properties\": {\n        \"dtype\": \"number\",\n        \"std\": 5.863498891927272,\n        \"min\": 42.0,\n        \"max\": 100.0,\n        \"num_unique_values\": 40,\n        \"samples\": [\n          82.0,\n          55.0,\n          74.0\n        ],\n        \"semantic_type\": \"\",\n        \"description\": \"\"\n      }\n    },\n    {\n      \"column\": \"maker_location\",\n      \"properties\": {\n        \"dtype\": \"category\",\n        \"num_unique_values\": 54,\n        \"samples\": [\n          \"Japan\",\n          \"Iceland\",\n          \"Ghana\"\n        ],\n        \"semantic_type\": \"\",\n        \"description\": \"\"\n      }\n    },\n    {\n      \"column\": \"rating\",\n      \"properties\": {\n        \"dtype\": \"number\",\n        \"std\": 0.4330176004555891,\n        \"min\": 1.5,\n        \"max\": 4.0,\n        \"num_unique_values\": 11,\n        \"samples\": [\n          3.25,\n          3.75,\n          2.0\n        ],\n        \"semantic_type\": \"\",\n        \"description\": \"\"\n      }\n    },\n    {\n      \"column\": \"bean_type\",\n      \"properties\": {\n        \"dtype\": \"category\",\n        \"num_unique_values\": 29,\n        \"samples\": [\n          \"Trinitario, TCGA\",\n          \"Amazon\",\n          \"Criollo (Porcelana)\"\n        ],\n        \"semantic_type\": \"\",\n        \"description\": \"\"\n      }\n    },\n    {\n      \"column\": \"broad_origin\",\n      \"properties\": {\n        \"dtype\": \"category\",\n        \"num_unique_values\": 112,\n        \"samples\": [\n          \"Martinique\",\n          \"India\",\n          \"Cuba\"\n        ],\n        \"semantic_type\": \"\",\n        \"description\": \"\"\n      }\n    }\n  ]\n}"
            }
          },
          "metadata": {},
          "execution_count": 71
        }
      ]
    },
    {
      "cell_type": "code",
      "source": [
        "Choc_data.loc[2011:2011,['review_date']]"
      ],
      "metadata": {
        "colab": {
          "base_uri": "https://localhost:8080/",
          "height": 53
        },
        "id": "9PMi9y2fUE1v",
        "outputId": "26074d33-2bde-47d6-f604-5a66cd0c5a04"
      },
      "execution_count": null,
      "outputs": [
        {
          "output_type": "execute_result",
          "data": {
            "text/plain": [
              "Empty DataFrame\n",
              "Columns: [review_date]\n",
              "Index: []"
            ],
            "text/html": [
              "\n",
              "  <div id=\"df-1146d09f-ce7d-431b-85fd-dfe016c12325\" class=\"colab-df-container\">\n",
              "    <div>\n",
              "<style scoped>\n",
              "    .dataframe tbody tr th:only-of-type {\n",
              "        vertical-align: middle;\n",
              "    }\n",
              "\n",
              "    .dataframe tbody tr th {\n",
              "        vertical-align: top;\n",
              "    }\n",
              "\n",
              "    .dataframe thead th {\n",
              "        text-align: right;\n",
              "    }\n",
              "</style>\n",
              "<table border=\"1\" class=\"dataframe\">\n",
              "  <thead>\n",
              "    <tr style=\"text-align: right;\">\n",
              "      <th></th>\n",
              "      <th>review_date</th>\n",
              "    </tr>\n",
              "  </thead>\n",
              "  <tbody>\n",
              "  </tbody>\n",
              "</table>\n",
              "</div>\n",
              "    <div class=\"colab-df-buttons\">\n",
              "\n",
              "  <div class=\"colab-df-container\">\n",
              "    <button class=\"colab-df-convert\" onclick=\"convertToInteractive('df-1146d09f-ce7d-431b-85fd-dfe016c12325')\"\n",
              "            title=\"Convert this dataframe to an interactive table.\"\n",
              "            style=\"display:none;\">\n",
              "\n",
              "  <svg xmlns=\"http://www.w3.org/2000/svg\" height=\"24px\" viewBox=\"0 -960 960 960\">\n",
              "    <path d=\"M120-120v-720h720v720H120Zm60-500h600v-160H180v160Zm220 220h160v-160H400v160Zm0 220h160v-160H400v160ZM180-400h160v-160H180v160Zm440 0h160v-160H620v160ZM180-180h160v-160H180v160Zm440 0h160v-160H620v160Z\"/>\n",
              "  </svg>\n",
              "    </button>\n",
              "\n",
              "  <style>\n",
              "    .colab-df-container {\n",
              "      display:flex;\n",
              "      gap: 12px;\n",
              "    }\n",
              "\n",
              "    .colab-df-convert {\n",
              "      background-color: #E8F0FE;\n",
              "      border: none;\n",
              "      border-radius: 50%;\n",
              "      cursor: pointer;\n",
              "      display: none;\n",
              "      fill: #1967D2;\n",
              "      height: 32px;\n",
              "      padding: 0 0 0 0;\n",
              "      width: 32px;\n",
              "    }\n",
              "\n",
              "    .colab-df-convert:hover {\n",
              "      background-color: #E2EBFA;\n",
              "      box-shadow: 0px 1px 2px rgba(60, 64, 67, 0.3), 0px 1px 3px 1px rgba(60, 64, 67, 0.15);\n",
              "      fill: #174EA6;\n",
              "    }\n",
              "\n",
              "    .colab-df-buttons div {\n",
              "      margin-bottom: 4px;\n",
              "    }\n",
              "\n",
              "    [theme=dark] .colab-df-convert {\n",
              "      background-color: #3B4455;\n",
              "      fill: #D2E3FC;\n",
              "    }\n",
              "\n",
              "    [theme=dark] .colab-df-convert:hover {\n",
              "      background-color: #434B5C;\n",
              "      box-shadow: 0px 1px 3px 1px rgba(0, 0, 0, 0.15);\n",
              "      filter: drop-shadow(0px 1px 2px rgba(0, 0, 0, 0.3));\n",
              "      fill: #FFFFFF;\n",
              "    }\n",
              "  </style>\n",
              "\n",
              "    <script>\n",
              "      const buttonEl =\n",
              "        document.querySelector('#df-1146d09f-ce7d-431b-85fd-dfe016c12325 button.colab-df-convert');\n",
              "      buttonEl.style.display =\n",
              "        google.colab.kernel.accessAllowed ? 'block' : 'none';\n",
              "\n",
              "      async function convertToInteractive(key) {\n",
              "        const element = document.querySelector('#df-1146d09f-ce7d-431b-85fd-dfe016c12325');\n",
              "        const dataTable =\n",
              "          await google.colab.kernel.invokeFunction('convertToInteractive',\n",
              "                                                    [key], {});\n",
              "        if (!dataTable) return;\n",
              "\n",
              "        const docLinkHtml = 'Like what you see? Visit the ' +\n",
              "          '<a target=\"_blank\" href=https://colab.research.google.com/notebooks/data_table.ipynb>data table notebook</a>'\n",
              "          + ' to learn more about interactive tables.';\n",
              "        element.innerHTML = '';\n",
              "        dataTable['output_type'] = 'display_data';\n",
              "        await google.colab.output.renderOutput(dataTable, element);\n",
              "        const docLink = document.createElement('div');\n",
              "        docLink.innerHTML = docLinkHtml;\n",
              "        element.appendChild(docLink);\n",
              "      }\n",
              "    </script>\n",
              "  </div>\n",
              "\n",
              "\n",
              "    </div>\n",
              "  </div>\n"
            ],
            "application/vnd.google.colaboratory.intrinsic+json": {
              "type": "dataframe",
              "summary": "{\n  \"name\": \"Choc_data\",\n  \"rows\": 0,\n  \"fields\": [\n    {\n      \"column\": \"review_date\",\n      \"properties\": {\n        \"dtype\": \"number\",\n        \"std\": null,\n        \"min\": null,\n        \"max\": null,\n        \"num_unique_values\": 0,\n        \"samples\": [],\n        \"semantic_type\": \"\",\n        \"description\": \"\"\n      }\n    }\n  ]\n}"
            }
          },
          "metadata": {},
          "execution_count": 74
        }
      ]
    },
    {
      "cell_type": "code",
      "source": [
        "Choc_data['broad_origin'].unique()"
      ],
      "metadata": {
        "colab": {
          "base_uri": "https://localhost:8080/"
        },
        "id": "2pbEWJR2V16y",
        "outputId": "260bc5cb-758d-4944-d7cc-2557c891b532"
      },
      "execution_count": null,
      "outputs": [
        {
          "output_type": "execute_result",
          "data": {
            "text/plain": [
              "array(['Sao Tome', 'Togo', 'Peru', 'Venezuela', 'Cuba', 'Panama',\n",
              "       'Madagascar', 'Brazil', 'Ecuador', 'Colombia', 'Burma',\n",
              "       'Papua New Guinea', 'Bolivia', 'Fiji', 'Mexico', 'Indonesia',\n",
              "       'Trinidad', 'Vietnam', 'Nicaragua', 'Tanzania',\n",
              "       'Dominican Republic', 'Ghana', 'Belize', 'Nine', 'Jamaica',\n",
              "       'Grenada', 'Toscano Black', 'Guatemala', 'Honduras', 'Costa Rica',\n",
              "       'Haiti', 'Congo', 'Philippines', 'Houseblend', 'Malaysia',\n",
              "       'Nature', 'Dominican Republic,Bali', 'Organic Dark',\n",
              "       'Venezuela,Africa,Brasil,Peru,Mexico', 'Gabon', 'Ivory Coast',\n",
              "       'Carribean', 'One Hundred', 'Sri Lanka', 'Blend', 'Puerto Rico',\n",
              "       'Lago di Como,Blu', 'Uganda', 'Blend No 1',\n",
              "       'Philly Blend,5 plantations', 'Kendari', 'Tarakan', 'Maragda',\n",
              "       'Martinique', 'Sao Tome,Principe', 'Sensations Intense', 'Vanuatu',\n",
              "       'Australia', 'Zorzal Reserva,2015 H,Kerchner', 'Liberia',\n",
              "       'Ecuador,Costa Rica', 'West Africa', 'Hawaii', 'Noir', 'Ilblend',\n",
              "       'St Lucia', 'Costa Rica,Venezuela', 'Peru,Madagascar',\n",
              "       'Red Vanilla', 'Venezuela,Trinidad', 'Supremo,SF', 'Dark',\n",
              "       'Trinidad,Tobago', 'Venezuela,Trinidad,Ecuador',\n",
              "       'Epique,Blend No 49', 'Coucher du Soleil', 'Lever du Soleil',\n",
              "       'Onyx', 'Nocturne', 'Complexite', 'Special Maker Reserve',\n",
              "       'Quetzalcoatl', 'Tsaranta', 'Semisweet', 'Campesino w,nibs',\n",
              "       'Trinitario', 'Downtown London', 'Africa meets Latina', 'Amazonas',\n",
              "       'one hundred', 'South America,Africa', 'India',\n",
              "       'Africa,Carribean,Central America', 'Tobago', 'Kuruba', 'Orinoco',\n",
              "       'Venezuela,Indonesia,Ecuador', 'Peru,Ecuador,Venezuela',\n",
              "       'Venezuela,Dominican Republic', 'Excellence ,US Version',\n",
              "       'Colombia,Ecuador', 'Solomon Islands', 'Cacao Nib Crunch',\n",
              "       'Nigeria', 'Peru,Belize', 'Peru,Madagascar,Dominican Republic',\n",
              "       'Brooklyn Blend', 'Papua New Guinea,Vanuatu,Madagascar',\n",
              "       'El Salvador', 'South America', 'Carre Amer', 'Carre Grand Noir',\n",
              "       'Noir Infini', 'Samoa', 'Ghana,Dominican Republic',\n",
              "       'Grand Cru Blend No1,5 yr Anniversary Ed', 'Trinidad,Ecuador',\n",
              "       'Signature Blend', 'Cameroon', 'Venezuela,Java', 'Venezuela,Ghana',\n",
              "       'Indonesia,Ghana', 'Peru,SMartin,Pangoa,nacional', 'Raw',\n",
              "       'Mid Mountain,2014', 'Principe', '100 percent', 'Latino',\n",
              "       'Central,South America', 'Venezuela,Trinidad,Madagascar',\n",
              "       'Carribean,Dominican Republic,Jamaica,Trinidad', 'Nibby',\n",
              "       'Extra Dark', 'Bittersweet', 'Ghana,Madagascar', 'Wasatch',\n",
              "       'Venezuela,Ecuador,Peru,Nicaragua', 'Madagascar,Ecuador',\n",
              "       \"Chef's Blend\",\n",
              "       'Guatemala,Dominican Republic,Peru,Madagascar,Papua New Guinea',\n",
              "       'Peru,Dominican Republic', 'Dominican Republic,Madagascar',\n",
              "       'Grenada,Papua New Guinea,Hawaii,Haiti,Madagascar',\n",
              "       'Madagascar,Java,Papua New Guinea',\n",
              "       'Venezuela,Bolivia,Dominican Republic',\n",
              "       'Dominican Republic,Ecuador,Peru', 'Suriname', 'Peru,Ecuador',\n",
              "       'TCHOPro 605', 'TCHOPro 68', 'Ecuador,Madagascar,Papua New Guinea',\n",
              "       'Ghana,Panama,Ecuador', 'Andoa,Grand Cru blend', 'Caraque',\n",
              "       'Venezuela,Carribean', 'Le Noir Extra Amer', 'House Blend,Batch 2',\n",
              "       'Goddess Blend', 'Amazonas Frucht', 'Indianer,Raw'], dtype=object)"
            ]
          },
          "metadata": {},
          "execution_count": 75
        }
      ]
    },
    {
      "cell_type": "code",
      "source": [
        "options = ['broad_origin', 'review_date', 'rating']\n",
        "rslt_df = Choc_data[(Choc_data['broad_origin'] == 'brazil') & Choc_data['review_date'].isin(options)]\n",
        "print(\"\\nResult dataframe:\\n\", rslt_df)\n"
      ],
      "metadata": {
        "colab": {
          "base_uri": "https://localhost:8080/"
        },
        "id": "DjPu3_p_VoHd",
        "outputId": "8af29157-23e1-4737-a8a4-c96388f7d6e3"
      },
      "execution_count": null,
      "outputs": [
        {
          "output_type": "stream",
          "name": "stdout",
          "text": [
            "\n",
            "Result dataframe:\n",
            " Empty DataFrame\n",
            "Columns: [maker, specific_origin, reference_number, review_date, coca_percent, maker_location, rating, bean_type, broad_origin]\n",
            "Index: []\n"
          ]
        }
      ]
    },
    {
      "cell_type": "code",
      "source": [
        "Choc_data_2011 = Choc_data[Choc_data['review_date'] == 2011]\n",
        "mean_rating_by_origin = Choc_data_2011.groupby('broad_origin')['rating'].mean()\n",
        "best_origin = mean_rating_by_origin.idxmax()\n",
        "print(f\"the best broad origin with the highest rating in 2011 is: {best_origin}\")"
      ],
      "metadata": {
        "colab": {
          "base_uri": "https://localhost:8080/"
        },
        "id": "TezMGr_ZYEFF",
        "outputId": "6d03f016-05fc-4607-ecf9-72f897c2187e"
      },
      "execution_count": null,
      "outputs": [
        {
          "output_type": "stream",
          "name": "stdout",
          "text": [
            "the best broad origin with the highest rating in 2011 is: Haiti\n"
          ]
        }
      ]
    },
    {
      "cell_type": "code",
      "source": [
        "plt.figure(figsize=(10, 6))\n",
        "plt.bar(mean_rating_by_origin.index, mean_rating_by_origin.values, color='skyblue')\n",
        "plt.xlabel('Broad Origin')\n",
        "plt.ylabel('Average Rating')\n",
        "plt.title('Average Chocolate Ratings by Broad Origin (2011)')\n",
        "plt.xticks(rotation=45, ha='right')\n",
        "\n",
        "plt.tight_layout()\n",
        "plt.show()"
      ],
      "metadata": {
        "colab": {
          "base_uri": "https://localhost:8080/",
          "height": 627
        },
        "id": "6e7WI5OxZdrY",
        "outputId": "68b1e38d-5dd3-4387-9712-e6c8adfc58ac"
      },
      "execution_count": null,
      "outputs": [
        {
          "output_type": "display_data",
          "data": {
            "text/plain": [
              "<Figure size 1000x600 with 1 Axes>"
            ],
            "image/png": "[encoded data removed]"
          },
          "metadata": {}
        }
      ]
    },
    {
      "cell_type": "code",
      "source": [
        "r = mean_rating_by_origin.to_csv('r.csv')\n",
        "files.download('r.csv')"
      ],
      "metadata": {
        "colab": {
          "base_uri": "https://localhost:8080/",
          "height": 17
        },
        "id": "N_sTQ71-cFb6",
        "outputId": "6bd56f47-d658-4441-cebe-97541732ca43"
      },
      "execution_count": null,
      "outputs": [
        {
          "output_type": "display_data",
          "data": {
            "text/plain": [
              "<IPython.core.display.Javascript object>"
            ],
            "application/javascript": [
              "\n",
              "    async function download(id, filename, size) {\n",
              "      if (!google.colab.kernel.accessAllowed) {\n",
              "        return;\n",
              "      }\n",
              "      const div = document.createElement('div');\n",
              "      const label = document.createElement('label');\n",
              "      label.textContent = `Downloading \"${filename}\": `;\n",
              "      div.appendChild(label);\n",
              "      const progress = document.createElement('progress');\n",
              "      progress.max = size;\n",
              "      div.appendChild(progress);\n",
              "      document.body.appendChild(div);\n",
              "\n",
              "      const buffers = [];\n",
              "      let downloaded = 0;\n",
              "\n",
              "      const channel = await google.colab.kernel.comms.open(id);\n",
              "      // Send a message to notify the kernel that we're ready.\n",
              "      channel.send({})\n",
              "\n",
              "      for await (const message of channel.messages) {\n",
              "        // Send a message to notify the kernel that we're ready.\n",
              "        channel.send({})\n",
              "        if (message.buffers) {\n",
              "          for (const buffer of message.buffers) {\n",
              "            buffers.push(buffer);\n",
              "            downloaded += buffer.byteLength;\n",
              "            progress.value = downloaded;\n",
              "          }\n",
              "        }\n",
              "      }\n",
              "      const blob = new Blob(buffers, {type: 'application/binary'});\n",
              "      const a = document.createElement('a');\n",
              "      a.href = window.URL.createObjectURL(blob);\n",
              "      a.download = filename;\n",
              "      div.appendChild(a);\n",
              "      a.click();\n",
              "      div.remove();\n",
              "    }\n",
              "  "
            ]
          },
          "metadata": {}
        },
        {
          "output_type": "display_data",
          "data": {
            "text/plain": [
              "<IPython.core.display.Javascript object>"
            ],
            "application/javascript": [
              "download(\"download_e0627174-7633-4a66-aaed-300f5b1261f2\", \"r.csv\", 849)"
            ]
          },
          "metadata": {}
        }
      ]
    }
  ]
}